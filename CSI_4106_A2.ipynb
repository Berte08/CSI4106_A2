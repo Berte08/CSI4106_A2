{
  "nbformat": 4,
  "nbformat_minor": 0,
  "metadata": {
    "colab": {
      "provenance": [],
      "authorship_tag": "ABX9TyMd6jZU0AXUobV2qnubs1sg",
      "include_colab_link": true
    },
    "kernelspec": {
      "name": "python3",
      "display_name": "Python 3"
    },
    "language_info": {
      "name": "python"
    }
  },
  "cells": [
    {
      "cell_type": "markdown",
      "metadata": {
        "id": "view-in-github",
        "colab_type": "text"
      },
      "source": [
        "<a href=\"https://colab.research.google.com/github/Berte08/CSI4106_A2/blob/main/CSI_4106_A2.ipynb\" target=\"_parent\"><img src=\"https://colab.research.google.com/assets/colab-badge.svg\" alt=\"Open In Colab\"/></a>"
      ]
    },
    {
      "cell_type": "markdown",
      "source": [],
      "metadata": {
        "id": "9W7G8oBmE-Yh"
      }
    },
    {
      "cell_type": "markdown",
      "source": [
        "**Information sur le groupe et le rapport**\n",
        "\n",
        "Numéro du Groupe: 71 Nom des membres du groupe: Berte Tata Saïdatou Numéros d'étudiants des membres du groupe : 300100935\n"
      ],
      "metadata": {
        "id": "cMWUhbMeFAgV"
      }
    },
    {
      "cell_type": "markdown",
      "source": [
        "# **DEVOIR 2 ETUDE EMPIRIQUE DE CLASSIFICATION**"
      ],
      "metadata": {
        "id": "YTt1krv4qX6t"
      }
    },
    {
      "cell_type": "markdown",
      "source": [
        "# 1\n",
        "a\n",
        "-L'objectif de cette étude est de développer un modèle de classification pour évaluer différents types de verre en fonction de leurs caractéristiques et paramètres, principalement utilisée dans le cadre d'enquêtes criminelles.   L'ensemble de données comprend plusieurs variables continues, telles que les taux de différents éléments chimiques présents dans les échantillons de verre, ainsi qu'un identifiant reflétant le type de verre.La variable cible est la classification du type de verre.\n",
        "\n",
        "-Les applications\n",
        "Sciences médico-légales : Un des domaines primaires d’application de ce modèle est dans les sciences médico-légales. Le modèle peut être utilisé pour l’induction de règles permettant de classifier les types de verre trouvés sur les lieux de crime, jouant un rôle crucial pour établir des preuves et aider à la résolution d’enquêtes criminelles.\n",
        "Industrie du verre : Dans le secteur industriel, il peut aider les fabricants de verre à améliorer et optimiser leurs processus de production, en assurant que les composants chimiques sont mélangés dans les proportions correctes pour produire les types de verre souhaités.\n",
        "\n",
        "b-\n",
        "1. Nombre d'instances  :\n",
        "Le dataset comporte 214 instances.\n",
        "2. Nombre d'attributs :\n",
        "Il y a 10 attributs continus (sans  l'Id number et l'attribut de classe).\n",
        "Les attributs sont :\n",
        "Id number\n",
        "RI: refractive index\n",
        "Na: Sodium\n",
        "Mg: Magnesium\n",
        "Al: Aluminum\n",
        "Si: Silicon\n",
        "K: Potassium\n",
        "Ca: Calcium\n",
        "Ba: Barium\n",
        "Fe: Iron\n",
        "En plus de ces attributs, il y a aussi un attribut de classe qui identifie le type de verre.\n",
        "3. Données manquantes :\n",
        "Il n'y a pas de valeurs manquantes dans cet ensemble de données.\n",
        "4. Répartition des classes :\n",
        "Il y a une distribution variée des types de verre avec une somme totale de 214 instances.\n",
        "Par exemple, il y a 163 instances de verre de fenêtre, et 51 instances de verre non-fenêtre.\n",
        "5. Description des attributs :\n",
        "Tous les attributs sont continus et quantitatifs, représentant différentes mesures et compositions chimiques du verre.\n",
        "L'identifiant (Id number) est unique pour chaque instance et sert à identifier chaque échantillon de verre.\n",
        "L'attribut de classe (Type of glass) est une valeur catégorielle qui indique le type de verre."
      ],
      "metadata": {
        "id": "kglAk33sq7uz"
      }
    },
    {
      "cell_type": "markdown",
      "source": [
        "# 2\n",
        " a\n",
        "Les atribut utile pour cette tache sont tous les attribut mentionner dans la question 1b et sont suffisant pour la classification , l'attribut Id number n'est pas utile pour la classification."
      ],
      "metadata": {
        "id": "FAKSz8TzaLmE"
      }
    },
    {
      "cell_type": "markdown",
      "source": [],
      "metadata": {
        "id": "qRVDGOjmheyZ"
      }
    },
    {
      "cell_type": "markdown",
      "source": [
        "**IMPORTATION DES BIBLIOTHEQUES IMPORTANTES ET ACCES DES DONNEES**"
      ],
      "metadata": {
        "id": "iBSNJTystD6-"
      }
    },
    {
      "cell_type": "code",
      "source": [
        "import pandas as pd\n",
        "import matplotlib.pyplot as plt\n",
        "from sklearn.model_selection import train_test_split\n",
        "from sklearn.neighbors import KNeighborsClassifier\n",
        "from sklearn.metrics import classification_report, confusion_matrix\n",
        "from sklearn.preprocessing import MinMaxScaler\n",
        "from sklearn.preprocessing import OneHotEncoder\n",
        "from sklearn.naive_bayes import CategoricalNB"
      ],
      "metadata": {
        "id": "56feYm9wokTa"
      },
      "execution_count": 131,
      "outputs": []
    },
    {
      "cell_type": "code",
      "source": [
        "url =\"https://github.com/Berte08/CSI4106_A2/raw/main/glass.csv\"\n",
        "\n",
        "dataset = pd.read_csv(url)\n",
        "\n"
      ],
      "metadata": {
        "id": "cc5lxa3js3ve"
      },
      "execution_count": 132,
      "outputs": []
    },
    {
      "cell_type": "code",
      "source": [
        "dataset.columns"
      ],
      "metadata": {
        "colab": {
          "base_uri": "https://localhost:8080/"
        },
        "id": "MrW5WWuV0tbq",
        "outputId": "1fb75af3-15bc-4a37-a194-131866994007"
      },
      "execution_count": 133,
      "outputs": [
        {
          "output_type": "execute_result",
          "data": {
            "text/plain": [
              "Index(['Id', 'RI', 'Na', 'Mg', 'Al', 'Si', 'K', 'Ca', 'Ba', 'Fe',\n",
              "       'Type of glass'],\n",
              "      dtype='object')"
            ]
          },
          "metadata": {},
          "execution_count": 133
        }
      ]
    },
    {
      "cell_type": "markdown",
      "source": [
        "# **b-Etendues (range) de chaque attribut**"
      ],
      "metadata": {
        "id": "gL3i5O7y4msl"
      }
    },
    {
      "cell_type": "code",
      "source": [
        "ranges = dataset.describe().loc[['min', 'max']].T\n",
        "ranges['range'] = ranges['max'] - ranges['min']\n",
        "plt.figure(figsize=(10, 6))\n",
        "plt.barh(ranges.index, ranges['range'], color='skyblue')\n",
        "plt.xlabel('Range')\n",
        "plt.title('Ranges of Attributes in the Glass Dataset')\n",
        "plt.gca().invert_yaxis()\n",
        "plt.show()"
      ],
      "metadata": {
        "colab": {
          "base_uri": "https://localhost:8080/",
          "height": 564
        },
        "id": "f_mfwzom4XS3",
        "outputId": "b0a59ce2-9c91-4017-ab67-c87207387328"
      },
      "execution_count": 134,
      "outputs": [
        {
          "output_type": "display_data",
          "data": {
            "text/plain": [
              "<Figure size 1000x600 with 1 Axes>"
            ],
            "image/png": "[encoded data removed]"
          },
          "metadata": {}
        }
      ]
    },
    {
      "cell_type": "markdown",
      "source": [
        " La normalisation pourrait être bénéfique pour ces raisons:\n",
        "\n",
        "*   Uniformité des Échelles:\n",
        "Les attributs du dataset \"glass\" varient en échelle et unité, nécessitant une normalisation pour uniformiser et comparabiliser ces valeurs\n",
        "*   Facilitation de l'Interprétation:\n",
        "Les données normalisées facilitent l'interprétation des modèles, en aidant à identifier les attributs les plus influents avec plus de clarté et de précision.\n",
        "\n"
      ],
      "metadata": {
        "id": "17ylS6_89szi"
      }
    },
    {
      "cell_type": "markdown",
      "source": [
        "## **3**"
      ],
      "metadata": {
        "id": "Nw-wLZ0K-LA6"
      }
    },
    {
      "cell_type": "markdown",
      "source": [
        " a-\n",
        "Notre ensemble de donne est composer dattributs continue et categorielle:Les attributs relatifs à la composition chimique du verre sont des attributs continus.\n",
        "L'attribut indiquant le type de verre est un attribut catégoriel."
      ],
      "metadata": {
        "id": "nSZi8W3-ApV1"
      }
    },
    {
      "cell_type": "markdown",
      "source": [
        "Nous allons normaliser les attributs continus du dataset \"glass\"."
      ],
      "metadata": {
        "id": "hj-FCkBxLSb3"
      }
    },
    {
      "cell_type": "code",
      "source": [
        "\n",
        "from sklearn.preprocessing import MinMaxScaler\n",
        "\n",
        "\n",
        "# Séparer les attributs et la colonne cible\n",
        "X = dataset.drop('Type of glass', axis=1)  # Assurez-vous que 'Type' est le nom de votre colonne cible\n",
        "y = dataset['Type of glass']\n",
        "\n",
        "# Normalisation des attributs continus\n",
        "scaler = MinMaxScaler()\n",
        "X_normalized = pd.DataFrame(scaler.fit_transform(X), columns=X.columns)\n",
        "\n",
        "# Séparation du dataset en ensemble d'entraînement et de test\n",
        "X_train, X_test, y_train, y_test = train_test_split(X_normalized, y, test_size=0.2, random_state=42)\n",
        "\n",
        "# Création du modèle KNN et entraînement\n",
        "knn = KNeighborsClassifier(n_neighbors=3)\n",
        "knn.fit(X_train, y_train)\n",
        "\n",
        "# Prédiction et évaluation du modèle\n",
        "y_pred = knn.predict(X_test)\n",
        "\n",
        "print(confusion_matrix(y_test, y_pred))\n",
        "print(classification_report(y_test, y_pred))\n"
      ],
      "metadata": {
        "colab": {
          "base_uri": "https://localhost:8080/"
        },
        "id": "a9VJKWxRN7NV",
        "outputId": "521aaf84-91dd-4283-f54f-5879d310b4da"
      },
      "execution_count": 135,
      "outputs": [
        {
          "output_type": "stream",
          "name": "stdout",
          "text": [
            "[[11  0  0  0  0  0]\n",
            " [ 1 13  0  0  0  0]\n",
            " [ 0  1  2  0  0  0]\n",
            " [ 0  1  0  3  0  0]\n",
            " [ 0  0  0  1  2  0]\n",
            " [ 0  0  0  0  1  7]]\n",
            "              precision    recall  f1-score   support\n",
            "\n",
            "           1       0.92      1.00      0.96        11\n",
            "           2       0.87      0.93      0.90        14\n",
            "           3       1.00      0.67      0.80         3\n",
            "           5       0.75      0.75      0.75         4\n",
            "           6       0.67      0.67      0.67         3\n",
            "           7       1.00      0.88      0.93         8\n",
            "\n",
            "    accuracy                           0.88        43\n",
            "   macro avg       0.87      0.81      0.83        43\n",
            "weighted avg       0.89      0.88      0.88        43\n",
            "\n"
          ]
        }
      ]
    },
    {
      "cell_type": "markdown",
      "source": [
        "b-\n",
        "Encodage pour attribut categorielle avec encodage one-hot"
      ],
      "metadata": {
        "id": "gNrn1d8NO4TJ"
      }
    },
    {
      "cell_type": "markdown",
      "source": [],
      "metadata": {
        "id": "DWwbDt5KVi7R"
      }
    },
    {
      "cell_type": "code",
      "source": [
        "\n",
        "# Initialiser le OneHotEncoder\n",
        "encoder = OneHotEncoder(sparse_output=False, drop='first')\n",
        "\n",
        "# Appliquer le OneHotEncoder sur la colonne \"Type\" (vous pouvez changer le nom si nécessaire)\n",
        "type_encoded = encoder.fit_transform(dataset[['Type of glass']])\n",
        "\n",
        "# Convertir le résultat en un DataFrame\n",
        "type_encoded_df = pd.DataFrame(type_encoded, columns=encoder.get_feature_names_out(['Type of glass']))\n",
        "\n",
        "# Concaténer le nouvel DataFrame encodé avec le dataset original (sans la colonne \"Type\")\n",
        "dataset_encoded = pd.concat([dataset.drop('Type of glass', axis=1), type_encoded_df], axis=1)\n",
        "\n",
        "# Afficher les premières lignes du dataset encodé\n",
        "print(dataset_encoded.head())\n"
      ],
      "metadata": {
        "colab": {
          "base_uri": "https://localhost:8080/"
        },
        "id": "NXhgGDQdQ-U7",
        "outputId": "6aa05c55-6bab-446d-a79a-1fec6aeae1d3"
      },
      "execution_count": 136,
      "outputs": [
        {
          "output_type": "stream",
          "name": "stdout",
          "text": [
            "   Id       RI     Na    Mg    Al     Si     K    Ca   Ba   Fe  \\\n",
            "0   1  1.52101  13.64  4.49  1.10  71.78  0.06  8.75  0.0  0.0   \n",
            "1   2  1.51761  13.89  3.60  1.36  72.73  0.48  7.83  0.0  0.0   \n",
            "2   3  1.51618  13.53  3.55  1.54  72.99  0.39  7.78  0.0  0.0   \n",
            "3   4  1.51766  13.21  3.69  1.29  72.61  0.57  8.22  0.0  0.0   \n",
            "4   5  1.51742  13.27  3.62  1.24  73.08  0.55  8.07  0.0  0.0   \n",
            "\n",
            "   Type of glass_2  Type of glass_3  Type of glass_5  Type of glass_6  \\\n",
            "0              0.0              0.0              0.0              0.0   \n",
            "1              0.0              0.0              0.0              0.0   \n",
            "2              0.0              0.0              0.0              0.0   \n",
            "3              0.0              0.0              0.0              0.0   \n",
            "4              0.0              0.0              0.0              0.0   \n",
            "\n",
            "   Type of glass_7  \n",
            "0              0.0  \n",
            "1              0.0  \n",
            "2              0.0  \n",
            "3              0.0  \n",
            "4              0.0  \n"
          ]
        }
      ]
    },
    {
      "cell_type": "markdown",
      "source": [
        "c-Naive Bayes"
      ],
      "metadata": {
        "id": "-XzUkGtkqOro"
      }
    },
    {
      "cell_type": "code",
      "source": [],
      "metadata": {
        "id": "uDAmTw4av4MV"
      },
      "execution_count": 136,
      "outputs": []
    },
    {
      "cell_type": "markdown",
      "source": [
        "## 4"
      ],
      "metadata": {
        "id": "k9d6h2-cv5N5"
      }
    },
    {
      "cell_type": "markdown",
      "source": [
        "a-Modèle régression logistique"
      ],
      "metadata": {
        "id": "zMPBq3Z1wAuM"
      }
    },
    {
      "cell_type": "markdown",
      "source": [
        "Nous avons choisi ces parametre:\n",
        "\n",
        "*  penalty: Type de régularisation à appliquer. Je choisirai 'l2' pour la régularisation L2, aussi connue sous le nom de Ridge.\n",
        "*   C: Inverse de la force de régularisation. Je choisirai 1.0 qui est la valeur par défaut.\n",
        "\n",
        "*   solver: Algorithme à utiliser dans le problème d'optimisation. Je vais utiliser 'lbfgs' car c'est le choix par défaut et il fonctionne bien pour de petits datasets.\n",
        "\n",
        "* max_iter : Contrôle le nombre maximum d'itérations que l'algorithme doit effectuer pour converger.\n",
        "*   random_state : Cela contrôle le caractère aléatoire dans l'algorithme de descente de gradient.\n",
        "\n",
        "\n",
        "\n",
        "\n",
        "\n"
      ],
      "metadata": {
        "id": "bdgAT8nowFS_"
      }
    },
    {
      "cell_type": "markdown",
      "source": [],
      "metadata": {
        "id": "SbIHX5xnLKpt"
      }
    },
    {
      "cell_type": "markdown",
      "source": [
        "Je choisis ces paramètres parce qu'ils sont assez standards et fonctionnent bien dans de nombreuses situations. Les valeurs par défaut sont souvent un bon point de départ, et à partir de là, nous pouvez affiner ces paramètres basés sur la performance du modèle."
      ],
      "metadata": {
        "id": "8cGwrbJR0sDE"
      }
    },
    {
      "cell_type": "code",
      "source": [
        "from sklearn.linear_model import LogisticRegression\n",
        "\n",
        "# Définition du modèle avec les paramètres choisis\n",
        "log_reg_model = LogisticRegression(penalty='l2', C=1.0, solver='lbfgs', max_iter=5000, random_state=42)\n",
        "\n"
      ],
      "metadata": {
        "id": "VQDK-go70jjI"
      },
      "execution_count": 137,
      "outputs": []
    },
    {
      "cell_type": "markdown",
      "source": [
        "b-Modèle Naive Bayes"
      ],
      "metadata": {
        "id": "Gw5aKa6w1VM6"
      }
    },
    {
      "cell_type": "markdown",
      "source": [
        "Nous avons choisi ces parametres:\n",
        "\n",
        "\n",
        "*  priors : Il s'agit des probabilités a priori des classes. Je vais laisser ce paramètre à None, ce qui signifie que les probabilités a priori seront ajustées en fonction des données.\n",
        "*   var_smoothing : C'est un paramètre pour lisser les estimations de variance. Je vais utiliser une petite valeur comme 10^(-9), qui est aussi la valeur par défaut, afin d'assurer la stabilité numérique.\n",
        "\n"
      ],
      "metadata": {
        "id": "QUx29tL-1Yni"
      }
    },
    {
      "cell_type": "code",
      "source": [
        "from sklearn.naive_bayes import GaussianNB\n",
        "\n",
        "# Définition du modèle avec les paramètres choisis\n",
        "gnb_model = GaussianNB(priors=None, var_smoothing=1e-09)\n"
      ],
      "metadata": {
        "id": "2_Ye4THP13nP"
      },
      "execution_count": 138,
      "outputs": []
    },
    {
      "cell_type": "markdown",
      "source": [
        "# 5. Entraînez/testez/évaluez les modele"
      ],
      "metadata": {
        "id": "A14Fn1-RCZOO"
      }
    },
    {
      "cell_type": "markdown",
      "source": [
        "**a**"
      ],
      "metadata": {
        "id": "MBXLFvRIClok"
      }
    },
    {
      "cell_type": "markdown",
      "source": [
        "**Entrainement**\n",
        "\n",
        "Pour chaque modèle, nous allons utiliser une validation croisée à 4 plis (4-fold cross-validation).Ceci est fait pour s'assurer que chaque observation est utilisée pour le test et l'entraînement, augmentant ainsi la robustesse de nos modèles."
      ],
      "metadata": {
        "id": "F8gx1kRsCqoc"
      }
    },
    {
      "cell_type": "markdown",
      "source": [
        "Preparation des donnee"
      ],
      "metadata": {
        "id": "4lkO4w2xEEtl"
      }
    },
    {
      "cell_type": "code",
      "source": [
        "\n",
        "X = dataset.drop('Type of glass', axis=1)\n",
        "y = dataset['Type of glass']\n"
      ],
      "metadata": {
        "id": "fQ8gLU9zDJKa"
      },
      "execution_count": 139,
      "outputs": []
    },
    {
      "cell_type": "markdown",
      "source": [],
      "metadata": {
        "id": "4a4sfIi9D-i7"
      }
    },
    {
      "cell_type": "markdown",
      "source": [
        "**Test et b-evaluation**\n",
        "\n"
      ],
      "metadata": {
        "id": "vOoVIY_2EOWM"
      }
    },
    {
      "cell_type": "markdown",
      "source": [],
      "metadata": {
        "id": "lpBY3aeLjHDU"
      }
    },
    {
      "cell_type": "code",
      "source": [
        "from sklearn.metrics import precision_score, recall_score, make_scorer\n",
        "from sklearn.model_selection import cross_val_score, cross_validate\n",
        "\n",
        "# Définir les métriques personnalisées\n",
        "precision_micro = make_scorer(precision_score, average='micro', zero_division=1)\n",
        "recall_micro = make_scorer(recall_score, average='micro')\n",
        "precision_macro = make_scorer(precision_score, average='macro', zero_division=1)\n",
        "recall_macro = make_scorer(recall_score, average='macro')\n",
        "\n",
        "for model, name in zip([log_reg_model, gnb_model], ['Logistic Regression', 'Naive Bayes']):\n",
        "    scores = cross_validate(model, X, y, cv=4,\n",
        "                            scoring={'precision_micro': precision_micro,\n",
        "                                     'recall_micro': recall_micro,\n",
        "                                     'precision_macro': precision_macro,\n",
        "                                     'recall_macro': recall_macro},\n",
        "                            error_score='raise')\n",
        "    print(f\"Résultats pour {name}:\")\n",
        "    print(f\"Précision micro-moyenne: {scores['test_precision_micro'].mean()}\")\n",
        "    print(f\"Rappel micro-moyen: {scores['test_recall_micro'].mean()}\")\n",
        "    print(f\"Précision macro-moyenne: {scores['test_precision_macro'].mean()}\")\n",
        "    print(f\"Rappel macro-moyen: {scores['test_recall_macro'].mean()}\")\n"
      ],
      "metadata": {
        "id": "8kTDgylKEbfG",
        "colab": {
          "base_uri": "https://localhost:8080/"
        },
        "outputId": "82480a5d-2cbf-4e46-c6f7-0078f8702526"
      },
      "execution_count": 140,
      "outputs": [
        {
          "output_type": "stream",
          "name": "stdout",
          "text": [
            "Résultats pour Logistic Regression:\n",
            "Précision micro-moyenne: 0.8409329140461216\n",
            "Rappel micro-moyen: 0.8409329140461216\n",
            "Précision macro-moyenne: 0.8811858076563959\n",
            "Rappel macro-moyen: 0.8757294584500467\n",
            "Résultats pour Naive Bayes:\n",
            "Précision micro-moyenne: 0.7997030048916841\n",
            "Rappel micro-moyen: 0.7997030048916841\n",
            "Précision macro-moyenne: 0.8740801656920077\n",
            "Rappel macro-moyen: 0.7843106540861959\n"
          ]
        }
      ]
    },
    {
      "cell_type": "markdown",
      "source": [
        "# **6**"
      ],
      "metadata": {
        "id": "Bpp_3K7HNFIu"
      }
    },
    {
      "cell_type": "markdown",
      "source": [
        "**Modification des parametres **"
      ],
      "metadata": {
        "id": "nTE7UFAaNHer"
      }
    },
    {
      "cell_type": "markdown",
      "source": [
        "Modfication\n",
        "Naïve Bayes\n",
        "Nous avons modifie les valeur du parametre var_smoothing"
      ],
      "metadata": {
        "id": "nqndaS6YNZtQ"
      }
    },
    {
      "cell_type": "code",
      "source": [
        "from sklearn.naive_bayes import GaussianNB\n",
        "\n",
        "# var_smoothing = 0.5\n",
        "gnb_model_1 = GaussianNB(var_smoothing=0.5)\n",
        "scores = cross_validate(gnb_model_1, X, y, cv=4,\n",
        "                        scoring={'precision_macro': precision_macro,\n",
        "                                 'recall_macro': recall_macro})\n",
        "\n",
        "print(f\"Résultats avec var_smoothing=0.5:\")\n",
        "print(f\"Précision macro-moyenne: {scores['test_precision_macro'].mean()}\")\n",
        "print(f\"Rappel macro-moyen: {scores['test_recall_macro'].mean()}\\n\")\n",
        "\n",
        "# var_smoothing = 1\n",
        "gnb_model_2 = GaussianNB(var_smoothing=1)\n",
        "scores = cross_validate(gnb_model_2, X, y, cv=4,\n",
        "                        scoring={'precision_macro': precision_macro,\n",
        "                                 'recall_macro': recall_macro})\n",
        "\n",
        "print(f\"Résultats avec var_smoothing=1:\")\n",
        "print(f\"Précision macro-moyenne: {scores['test_precision_macro'].mean()}\")\n",
        "print(f\"Rappel macro-moyen: {scores['test_recall_macro'].mean()}\")\n"
      ],
      "metadata": {
        "colab": {
          "base_uri": "https://localhost:8080/"
        },
        "id": "G73_QYK4aAn1",
        "outputId": "e6b5082d-ab23-42f8-92f0-959d46d18f81"
      },
      "execution_count": 141,
      "outputs": [
        {
          "output_type": "stream",
          "name": "stdout",
          "text": [
            "Résultats avec var_smoothing=0.5:\n",
            "Précision macro-moyenne: 0.8954328850162184\n",
            "Rappel macro-moyen: 0.45794633642930854\n",
            "\n",
            "Résultats avec var_smoothing=1:\n",
            "Précision macro-moyenne: 0.9095707566271065\n",
            "Rappel macro-moyen: 0.3740970072239422\n"
          ]
        }
      ]
    },
    {
      "cell_type": "markdown",
      "source": [
        "Modification  du Logistic Regression,les valeur du solveur ont ete modifier,les parametre penalty,C ont egalement ete retirer"
      ],
      "metadata": {
        "id": "N3mxbY3QaQRl"
      }
    },
    {
      "cell_type": "code",
      "source": [
        "from sklearn.linear_model import LogisticRegression\n",
        "\n",
        "# Test avec le solveur ‘newton-cg’\n",
        "log_reg_model_1 = LogisticRegression(solver='newton-cg', max_iter=5000, random_state=42)\n",
        "scores = cross_validate(log_reg_model_1, X, y, cv=4,\n",
        "                        scoring={'precision_macro': precision_macro,\n",
        "                                 'recall_macro': recall_macro})\n",
        "\n",
        "print(f\"Résultats avec solver='newton-cg':\")\n",
        "print(f\"Précision macro-moyenne: {scores['test_precision_macro'].mean()}\")\n",
        "print(f\"Rappel macro-moyen: {scores['test_recall_macro'].mean()}\\n\")\n",
        "\n",
        "# Test avec le solveur ‘sag’\n",
        "log_reg_model_2 = LogisticRegression(solver='sag', max_iter=5000, random_state=42)\n",
        "scores = cross_validate(log_reg_model_2, X, y, cv=4,\n",
        "                        scoring={'precision_macro': precision_macro,\n",
        "                                 'recall_macro': recall_macro})\n",
        "\n",
        "print(f\"Résultats avec solver='sag':\")\n",
        "print(f\"Précision macro-moyenne: {scores['test_precision_macro'].mean()}\")\n",
        "print(f\"Rappel macro-moyen: {scores['test_recall_macro'].mean()}\")\n"
      ],
      "metadata": {
        "colab": {
          "base_uri": "https://localhost:8080/"
        },
        "id": "m7foCduDabqJ",
        "outputId": "24dc4db8-e347-4f2e-ac2a-3cd0dec12a54"
      },
      "execution_count": 142,
      "outputs": [
        {
          "output_type": "stream",
          "name": "stdout",
          "text": [
            "Résultats avec solver='newton-cg':\n",
            "Précision macro-moyenne: 0.8853524743230625\n",
            "Rappel macro-moyen: 0.8816818394024276\n",
            "\n",
            "Résultats avec solver='sag':\n",
            "Précision macro-moyenne: 0.9126633986928104\n",
            "Rappel macro-moyen: 0.899359305125559\n"
          ]
        }
      ]
    },
    {
      "cell_type": "markdown",
      "source": [
        "# **7- Analyse des resultats**"
      ],
      "metadata": {
        "id": "jatmc29FeYQE"
      }
    },
    {
      "cell_type": "markdown",
      "source": [
        "**Resultat**"
      ],
      "metadata": {
        "id": "z440qG0WnOH2"
      }
    },
    {
      "cell_type": "markdown",
      "source": [
        "Régression Logistique (paramètres par défaut)\n",
        "\n",
        "Précision micro-moyenne: 0.8409\n",
        "Rappel micro-moyen: 0.8409\n",
        "Précision macro-moyenne: 0.8812\n",
        "Rappel macro-moyen: 0.8757\n",
        "\n",
        "Régression Logistique (solver='newton-cg')\n",
        "Précision macro-moyenne: 0.8854\n",
        "Rappel macro-moyen: 0.8817\n",
        "\n",
        "Régression Logistique (solver='sag')\n",
        "Précision macro-moyenne: 0.9127\n",
        "Rappel macro-moyen: 0.8994\n",
        "\n",
        "Naive Bayes (paramètres par défaut)\n",
        "Précision micro-moyenne: 0.7997\n",
        "Rappel micro-moyen: 0.7997\n",
        "Précision macro-moyenne: 0.8741\n",
        "Rappel macro-moyen: 0.7843\n",
        "\n",
        "Naive Bayes (var_smoothing=0.5)\n",
        "Précision macro-moyenne: 0.8954\n",
        "Rappel macro-moyen: 0.4579\n",
        "Naive Bayes (var_smoothing=1)\n",
        "\n",
        "Précision macro-moyenne: 0.9096\n",
        "Rappel macro-moyen: 0.3741"
      ],
      "metadata": {
        "id": "Z8fOJ_a_kw5b"
      }
    },
    {
      "cell_type": "markdown",
      "source": [
        "**Analyse**"
      ],
      "metadata": {
        "id": "rT-dngirlMBR"
      }
    },
    {
      "cell_type": "markdown",
      "source": [
        "La régression logistique performe mieux en termes de précision et de rappel, à la fois pour les moyennes micro et macro.Le changement du solver à 'sag' a amélioré la performance du modèle Régression Logistique en termes de précision et de rappel macro-moyens.Pour Naive Bayes en augmentant la valeur de var_smoothing, la précision macro-moyenne augmente, mais le rappel macro-moyen diminue considérablement.\n",
        "\n",
        "Pour la régression logistique avec les paramètres par défaut, la précision et le rappel micro-moyens sont légèrement inférieurs à leurs aux valeur macro-moyens.\n",
        "Pour Naive Bayes, avec les paramètres par défaut, il y a une différence plus importante entre les scores micro et macro, indiquant une variabilité dans la performance à travers les différentes classes."
      ],
      "metadata": {
        "id": "Pl_a-4e-lTUn"
      }
    },
    {
      "cell_type": "markdown",
      "source": [],
      "metadata": {
        "id": "R79na9V5edwJ"
      }
    },
    {
      "cell_type": "code",
      "source": [
        "# Les noms des modèles et leurs configurations\n",
        "models = ['LogReg Default', 'LogReg newton-cg', 'LogReg sag', 'NaiveBayes Default', 'NaiveBayes 0.5', 'NaiveBayes 1']\n",
        "\n",
        "# Les scores de précision macro-moyenne\n",
        "precision_scores = [0.8812, 0.8854, 0.9127, 0.8741, 0.8954, 0.9096]\n",
        "\n",
        "# Les scores de rappel macro-moyen\n",
        "recall_scores = [0.8757, 0.8817, 0.8994, 0.7843, 0.4579, 0.3741]\n",
        "\n",
        "x = np.arange(len(models))  # les labels de l'axe x\n",
        "\n",
        "width = 0.35  # la largeur des barres\n",
        "\n",
        "fig, ax = plt.subplots()\n",
        "\n",
        "rects1 = ax.bar(x - width/2, precision_scores, width, label='Précision')\n",
        "rects2 = ax.bar(x + width/2, recall_scores, width, label='Rappel')\n",
        "\n",
        "\n",
        "ax.set_ylabel('Scores')\n",
        "ax.set_title('Scores de précision et de rappel par modèle et configuration')\n",
        "ax.set_xticks(x)\n",
        "ax.set_xticklabels(models, rotation=45, ha='right')\n",
        "ax.legend()\n",
        "\n",
        "\n",
        "def autolabel(rects):\n",
        "    \"\"\"Attach a text label above each bar in *rects*, displaying its height.\"\"\"\n",
        "    for rect in rects:\n",
        "        height = rect.get_height()\n",
        "        ax.annotate('{}'.format(round(height, 2)),\n",
        "                    xy=(rect.get_x() + rect.get_width() / 2, height),\n",
        "                    xytext=(0, 3),\n",
        "                    textcoords=\"offset points\",\n",
        "                    ha='center', va='bottom')\n",
        "\n",
        "autolabel(rects1)\n",
        "autolabel(rects2)\n",
        "\n",
        "fig.tight_layout()\n",
        "\n",
        "plt.show()\n"
      ],
      "metadata": {
        "colab": {
          "base_uri": "https://localhost:8080/",
          "height": 487
        },
        "id": "qLlPrryKmbgj",
        "outputId": "3cab8ea3-6d77-4680-f299-ded5b360c376"
      },
      "execution_count": 143,
      "outputs": [
        {
          "output_type": "display_data",
          "data": {
            "text/plain": [
              "<Figure size 640x480 with 1 Axes>"
            ],
            "image/png": "[encoded data removed]"
          },
          "metadata": {}
        }
      ]
    },
    {
      "cell_type": "markdown",
      "source": [
        "# **8-Conclusion**"
      ],
      "metadata": {
        "id": "BtZXzEjQm3Ub"
      }
    },
    {
      "cell_type": "markdown",
      "source": [
        " Le modèle  de Régression Logistique semble plus robuste et performe de manière constante avec différentes modifications des paramètres. Le choix du solver 'sag' semble être le plus efficace parmi ceux essayés.\n",
        "\n",
        " Bien que le changement de var_smoothing  dans le modele Naive Bayes ait conduit à une augmentation de la précision, il a également entraîné une réduction significative du rappel, ce qui pourrait indiquer que le modèle est devenu trop spécifique à certaines classes et moins sensible à d'autres.\n",
        "\n",
        "Chacune des modifications des paramètres dans les modèles a eu un impact notable sur leurs performances, ce qui démontre l'importance de l'ajustement des paramètres dans l'optimisation des modèles de machine learning."
      ],
      "metadata": {
        "id": "-0gn0vvwnIE_"
      }
    },
    {
      "cell_type": "markdown",
      "source": [
        "9-Reference:\n",
        "\n",
        "https://openclassrooms.com/fr/courses/7771531-decouvrez-les-librairies-python-pour-la-data-science/7858285-tracez-des-graphiques-avec-matplotlib\n",
        "https://chat.openai.com\n",
        "https://www.kaggle.com/datasets/warcoder/knapsack-problem/data\n",
        "https://www.youtube.com/watch?v=RLYoEyIHL6A\n",
        "https://www.youtube.com/watch?v=9PQV_yERZBU\n",
        "https://www.kaggle.com/datasets/danushkumarv/glass-identification-data-set\n",
        "https://scikit-learn.org/stable/modules/generated/sklearn.linear_model.LogisticRegression.html\n",
        "https://scikit-learn.org/stable/modules/naive_bayes.html\n",
        "https://scikit-learn.org/stable/modules/model_evaluation.html\n",
        "https://scikit-learn.org/stable/modules/cross_validation.html\n",
        "https://matplotlib.org/stable/users/index.html\n",
        "\n"
      ],
      "metadata": {
        "id": "Oir0iWvjpHvp"
      }
    }
  ]
}